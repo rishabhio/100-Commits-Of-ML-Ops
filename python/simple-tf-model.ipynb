{
 "cells": [
  {
   "cell_type": "code",
   "execution_count": 2,
   "id": "0ef8ea2d-6c88-4c65-a424-5f744f0e7af1",
   "metadata": {},
   "outputs": [],
   "source": [
    "# import tensorflow \n",
    "import tensorflow as tf"
   ]
  },
  {
   "cell_type": "code",
   "execution_count": 3,
   "id": "b3a7ef10-3bfc-4b36-8194-019a6d7f174d",
   "metadata": {},
   "outputs": [],
   "source": [
    "from sklearn.datasets import load_iris\n"
   ]
  },
  {
   "cell_type": "code",
   "execution_count": 5,
   "id": "17e4e954-7ec3-4333-94b0-899be5c3ea23",
   "metadata": {},
   "outputs": [],
   "source": [
    "from sklearn.model_selection import train_test_split \n",
    "from sklearn.preprocessing import StandardScaler \n"
   ]
  },
  {
   "cell_type": "code",
   "execution_count": 7,
   "id": "e586549c-8da4-4acd-98d0-1e50c44b1354",
   "metadata": {},
   "outputs": [],
   "source": [
    "iris = load_iris()\n",
    "X, y = iris.data, iris.target"
   ]
  },
  {
   "cell_type": "code",
   "execution_count": 9,
   "id": "5b645f1b-0224-4048-bc4b-86f3cb31c626",
   "metadata": {},
   "outputs": [],
   "source": [
    "X_train, X_test, y_train, y_test = train_test_split(X, y, test_size=0.2, random_state = 42) \n",
    "scaler = StandardScaler()\n",
    "X_train = scaler.fit_transform(X_train) \n",
    "X_test = scaler.fit_transform(X_test) \n"
   ]
  },
  {
   "cell_type": "code",
   "execution_count": 11,
   "id": "87103ea2-13a4-45df-915d-8ea08223399b",
   "metadata": {},
   "outputs": [],
   "source": [
    "# build the model \n",
    "model = tf.keras.Sequential(\n",
    "    [\n",
    "        tf.keras.layers.Dense(64, activation='relu', input_shape=(4,)),\n",
    "        tf.keras.layers.Dense(3, activation='softmax')\n",
    "    ]\n",
    ")"
   ]
  },
  {
   "cell_type": "code",
   "execution_count": 13,
   "id": "e195a9f6-f57c-4af7-bf94-626a30508c83",
   "metadata": {},
   "outputs": [],
   "source": [
    "model.compile(\n",
    "    optimizer='adam',\n",
    "    loss='sparse_categorical_crossentropy',\n",
    "    metrics=['accuracy']\n",
    ")"
   ]
  },
  {
   "cell_type": "code",
   "execution_count": 14,
   "id": "f638a6cc-ec81-4369-a761-bfe0a71ab440",
   "metadata": {},
   "outputs": [
    {
     "name": "stdout",
     "output_type": "stream",
     "text": [
      "Epoch 1/10\n",
      "4/4 [==============================] - 0s 26ms/step - loss: 1.1350 - accuracy: 0.0833 - val_loss: 1.0753 - val_accuracy: 0.2333\n",
      "Epoch 2/10\n",
      "4/4 [==============================] - 0s 4ms/step - loss: 1.0630 - accuracy: 0.3417 - val_loss: 1.0032 - val_accuracy: 0.4667\n",
      "Epoch 3/10\n",
      "4/4 [==============================] - 0s 4ms/step - loss: 0.9970 - accuracy: 0.6083 - val_loss: 0.9376 - val_accuracy: 0.7667\n",
      "Epoch 4/10\n",
      "4/4 [==============================] - 0s 4ms/step - loss: 0.9358 - accuracy: 0.7333 - val_loss: 0.8775 - val_accuracy: 0.8667\n",
      "Epoch 5/10\n",
      "4/4 [==============================] - 0s 4ms/step - loss: 0.8801 - accuracy: 0.7750 - val_loss: 0.8230 - val_accuracy: 0.8667\n",
      "Epoch 6/10\n",
      "4/4 [==============================] - 0s 4ms/step - loss: 0.8311 - accuracy: 0.7917 - val_loss: 0.7731 - val_accuracy: 0.8667\n",
      "Epoch 7/10\n",
      "4/4 [==============================] - 0s 4ms/step - loss: 0.7859 - accuracy: 0.8000 - val_loss: 0.7281 - val_accuracy: 0.9000\n",
      "Epoch 8/10\n",
      "4/4 [==============================] - 0s 4ms/step - loss: 0.7450 - accuracy: 0.7917 - val_loss: 0.6872 - val_accuracy: 0.9000\n",
      "Epoch 9/10\n",
      "4/4 [==============================] - 0s 4ms/step - loss: 0.7087 - accuracy: 0.8000 - val_loss: 0.6504 - val_accuracy: 0.9000\n",
      "Epoch 10/10\n",
      "4/4 [==============================] - 0s 4ms/step - loss: 0.6764 - accuracy: 0.8083 - val_loss: 0.6167 - val_accuracy: 0.9000\n"
     ]
    },
    {
     "data": {
      "text/plain": [
       "<keras.src.callbacks.History at 0x29d49c7d0>"
      ]
     },
     "execution_count": 14,
     "metadata": {},
     "output_type": "execute_result"
    }
   ],
   "source": [
    "model.fit(\n",
    "    X_train, y_train,\n",
    "    epochs=10, \n",
    "    validation_data=(X_test, y_test)\n",
    ")"
   ]
  },
  {
   "cell_type": "code",
   "execution_count": 15,
   "id": "fee2a27b-0fba-4e5e-a85d-3b534ba0760d",
   "metadata": {},
   "outputs": [
    {
     "name": "stdout",
     "output_type": "stream",
     "text": [
      "1/1 [==============================] - 0s 17ms/step - loss: 0.6167 - accuracy: 0.9000\n"
     ]
    }
   ],
   "source": [
    "test_loss, test_accuracy = model.evaluate(X_test, y_test)"
   ]
  },
  {
   "cell_type": "code",
   "execution_count": 16,
   "id": "45324d47-0c71-45fa-9b2a-9d180981e60c",
   "metadata": {},
   "outputs": [
    {
     "name": "stdout",
     "output_type": "stream",
     "text": [
      "1/1 [==============================] - 0s 46ms/step\n"
     ]
    }
   ],
   "source": [
    "predictions = model.predict(X_test[:5])"
   ]
  },
  {
   "cell_type": "code",
   "execution_count": 17,
   "id": "c3dce2c4-cb49-4f18-82f0-d2d0e8c8eda6",
   "metadata": {},
   "outputs": [
    {
     "data": {
      "text/plain": [
       "array([[0.2763133 , 0.42381755, 0.29986912],\n",
       "       [0.75261205, 0.1008002 , 0.14658777],\n",
       "       [0.10221109, 0.24296552, 0.65482336],\n",
       "       [0.2625301 , 0.38659334, 0.35087654],\n",
       "       [0.21406922, 0.3524669 , 0.43346378]], dtype=float32)"
      ]
     },
     "execution_count": 17,
     "metadata": {},
     "output_type": "execute_result"
    }
   ],
   "source": [
    "predictions"
   ]
  }
 ],
 "metadata": {
  "kernelspec": {
   "display_name": "Python 3 (ipykernel)",
   "language": "python",
   "name": "python3"
  },
  "language_info": {
   "codemirror_mode": {
    "name": "ipython",
    "version": 3
   },
   "file_extension": ".py",
   "mimetype": "text/x-python",
   "name": "python",
   "nbconvert_exporter": "python",
   "pygments_lexer": "ipython3",
   "version": "3.11.4"
  }
 },
 "nbformat": 4,
 "nbformat_minor": 5
}
