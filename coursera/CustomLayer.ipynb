{
 "cells": [
  {
   "cell_type": "code",
   "execution_count": 2,
   "id": "05ab8102-3ee7-49ab-a931-3145f5758156",
   "metadata": {},
   "outputs": [],
   "source": [
    "import tensorflow as tf\n",
    "from tensorflow.keras.layers import Layer\n",
    "\n",
    "class SimpleQuadratic(Layer):\n",
    "\n",
    "    def __init__(self, units=32, activation=None):\n",
    "        '''Initializes the class and sets up the internal variables'''\n",
    "        # YOUR CODE HERE\n",
    "        super(SimpleQuadratic, self).__init__()\n",
    "        self.units = units \n",
    "        self.activation = tf.keras.activations.get(activation)\n",
    "    \n",
    "    def build(self, input_shape):\n",
    "        '''Create the state of the layer (weights)'''\n",
    "        # a and b should be initialized with random normal, c (or the bias) with zeros.\n",
    "        # remember to set these as trainable.\n",
    "        # YOUR CODE HERE\n",
    "        a_init = tf.random_normal_initializer()\n",
    "        a_init_val = a_init(shape=(input_shape[-1], self.units), dtype='float32')\n",
    "        self.a = tf.Variable(name=\"kernel\", initial_value=a_init_val, trainable=True)\n",
    "        b_init = tf.random_normal_initializer()\n",
    "        b_init_val = b_init(shape=(input_shape[-1], self.units), dtype='float32')\n",
    "        self.b = tf.Variable(name='kernel', initial_value=b_init_val, trainable=True)\n",
    "        c_init = tf.zeros_initializer()\n",
    "        c_init_val = c_init(shape=(self.units,), dtype='float32')\n",
    "        self.c = tf.Variable(name='bias', initial_value=c_init_val, trainable=True)\n",
    "   \n",
    "    def call(self, inputs):\n",
    "        '''Defines the computation from inputs to outputs'''\n",
    "        # Remember to use self.activation() to get the final output\n",
    "        # YOUR CODE HERE\n",
    "        x_squared = tf.math.square(inputs)\n",
    "        x_squared_times_a = tf.matmul(x_squared, self.a)\n",
    "        x_times_b = tf.matmul(inputs, self.b)\n",
    "        x2a_plus_xb_plus_c = x_squared_times_a + x_times_b + self.c \n",
    "        activated_result = self.activation(x2a_plus_xb_plus_c)\n",
    "        return activated_result"
   ]
  },
  {
   "cell_type": "code",
   "execution_count": 3,
   "id": "aecc81e3-f750-45f3-9bdf-73a392dd29e2",
   "metadata": {},
   "outputs": [],
   "source": [
    "# Use Case \n",
    "\n",
    "# mnist = tf.keras.datasets.mnist\n",
    "\n",
    "# (x_train, y_train),(x_test, y_test) = mnist.load_data()\n",
    "# x_train, x_test = x_train / 255.0, x_test / 255.0\n",
    "\n",
    "# model = tf.keras.models.Sequential([\n",
    "#   tf.keras.layers.Flatten(input_shape=(28, 28)),\n",
    "#   SimpleQuadratic(128, activation='relu'),\n",
    "#   tf.keras.layers.Dropout(0.2),\n",
    "#   tf.keras.layers.Dense(10, activation='softmax')\n",
    "# ])\n",
    "\n",
    "# model.compile(optimizer='adam',\n",
    "#               loss='sparse_categorical_crossentropy',\n",
    "#               metrics=['accuracy'])\n",
    "\n",
    "# model.fit(x_train, y_train, epochs=5)\n",
    "# model.evaluate(x_test, y_test)"
   ]
  },
  {
   "cell_type": "code",
   "execution_count": null,
   "id": "8a42cfa8-54a7-4c6c-bb7b-a063386d688f",
   "metadata": {},
   "outputs": [],
   "source": []
  }
 ],
 "metadata": {
  "kernelspec": {
   "display_name": "Python 3 (ipykernel)",
   "language": "python",
   "name": "python3"
  },
  "language_info": {
   "codemirror_mode": {
    "name": "ipython",
    "version": 3
   },
   "file_extension": ".py",
   "mimetype": "text/x-python",
   "name": "python",
   "nbconvert_exporter": "python",
   "pygments_lexer": "ipython3",
   "version": "3.11.4"
  }
 },
 "nbformat": 4,
 "nbformat_minor": 5
}
