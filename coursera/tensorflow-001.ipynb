{
 "cells": [
  {
   "cell_type": "code",
   "execution_count": 8,
   "id": "21202467-5d10-4151-a559-0928db397529",
   "metadata": {},
   "outputs": [],
   "source": [
    "import tensorflow as tf\n",
    "from tensorflow.keras import backend as K"
   ]
  },
  {
   "cell_type": "code",
   "execution_count": 10,
   "id": "f9c8ca6a-686f-4aa1-bbc1-7df18ed99414",
   "metadata": {},
   "outputs": [],
   "source": [
    "# Prepare the Dataset \n",
    "mnist = tf.keras.datasets.mnist \n",
    "(x_train, y_train), (x_test, y_test) = mnist.load_data()"
   ]
  },
  {
   "cell_type": "markdown",
   "id": "1e0687d4-8a89-4b09-b530-e8e9123be581",
   "metadata": {},
   "source": [
    "# build the model"
   ]
  },
  {
   "cell_type": "markdown",
   "id": "77087328-ffde-41df-a71e-92d1eb53411a",
   "metadata": {},
   "source": [
    "- use lambda layer to define a custom layer"
   ]
  },
  {
   "cell_type": "code",
   "execution_count": 17,
   "id": "90a1e536-77fa-4174-a2fd-294a3eb13545",
   "metadata": {},
   "outputs": [],
   "source": [
    "model = tf.keras.models.Sequential([\n",
    "    tf.keras.layers.Flatten(input_shape=(28, 28)),\n",
    "    tf.keras.layers.Dense(128),\n",
    "    tf.keras.layers.Lambda(lambda x: tf.abs(x)),\n",
    "    tf.keras.layers.Dense(10, activation='softmax')\n",
    "])"
   ]
  },
  {
   "cell_type": "code",
   "execution_count": null,
   "id": "d9027d9d-0212-4148-8283-e57082f50153",
   "metadata": {},
   "outputs": [],
   "source": []
  },
  {
   "cell_type": "code",
   "execution_count": 21,
   "id": "f534013d-6aef-49fc-a25c-7a2400e0704e",
   "metadata": {},
   "outputs": [
    {
     "name": "stdout",
     "output_type": "stream",
     "text": [
      "Epoch 1/5\n",
      "1875/1875 [==============================] - 2s 850us/step - loss: 2.2590 - accuracy: 0.9858\n",
      "Epoch 2/5\n",
      "1875/1875 [==============================] - 2s 848us/step - loss: 2.2497 - accuracy: 0.9865\n",
      "Epoch 3/5\n",
      "1875/1875 [==============================] - 2s 827us/step - loss: 2.0337 - accuracy: 0.9878\n",
      "Epoch 4/5\n",
      "1875/1875 [==============================] - 2s 815us/step - loss: 2.1787 - accuracy: 0.9880\n",
      "Epoch 5/5\n",
      "1875/1875 [==============================] - 2s 822us/step - loss: 2.1538 - accuracy: 0.9883\n",
      "313/313 [==============================] - 0s 442us/step - loss: 11.1291 - accuracy: 0.9690\n"
     ]
    },
    {
     "data": {
      "text/plain": [
       "[11.129077911376953, 0.968999981880188]"
      ]
     },
     "execution_count": 21,
     "metadata": {},
     "output_type": "execute_result"
    }
   ],
   "source": [
    "model.compile(optimizer='adam',\n",
    "              loss='sparse_categorical_crossentropy',\n",
    "              metrics=['accuracy'])\n",
    "model.fit(x_train, y_train, epochs=5)\n",
    "model.evaluate(x_test, y_test)"
   ]
  },
  {
   "cell_type": "code",
   "execution_count": 24,
   "id": "2c2d5989-d8c1-485c-bf68-a90bc3b195bd",
   "metadata": {},
   "outputs": [
    {
     "name": "stdout",
     "output_type": "stream",
     "text": [
      "Epoch 1/10\n",
      "1875/1875 [==============================] - 2s 922us/step - loss: 2.1483 - accuracy: 0.8374\n",
      "Epoch 2/10\n",
      "1875/1875 [==============================] - 2s 895us/step - loss: 0.3825 - accuracy: 0.9053\n",
      "Epoch 3/10\n",
      "1875/1875 [==============================] - 2s 905us/step - loss: 0.2722 - accuracy: 0.9278\n",
      "Epoch 4/10\n",
      "1875/1875 [==============================] - 2s 897us/step - loss: 0.2460 - accuracy: 0.9357\n",
      "Epoch 5/10\n",
      "1875/1875 [==============================] - 2s 857us/step - loss: 0.2294 - accuracy: 0.9402\n",
      "Epoch 6/10\n",
      "1875/1875 [==============================] - 2s 856us/step - loss: 0.2189 - accuracy: 0.9439\n",
      "Epoch 7/10\n",
      "1875/1875 [==============================] - 2s 826us/step - loss: 0.1992 - accuracy: 0.9484\n",
      "Epoch 8/10\n",
      "1875/1875 [==============================] - 2s 835us/step - loss: 0.2034 - accuracy: 0.9484\n",
      "Epoch 9/10\n",
      "1875/1875 [==============================] - 2s 859us/step - loss: 0.1880 - accuracy: 0.9511\n",
      "Epoch 10/10\n",
      "1875/1875 [==============================] - 2s 846us/step - loss: 0.1833 - accuracy: 0.9521\n",
      "313/313 [==============================] - 0s 458us/step - loss: 0.2980 - accuracy: 0.9403\n"
     ]
    },
    {
     "data": {
      "text/plain": [
       "[0.29801177978515625, 0.9402999877929688]"
      ]
     },
     "execution_count": 24,
     "metadata": {},
     "output_type": "execute_result"
    }
   ],
   "source": [
    "def my_relu(x):\n",
    "    return K.maximum(-0.1, x)\n",
    "\n",
    "model = tf.keras.models.Sequential([\n",
    "    tf.keras.layers.Flatten(input_shape=(28,28)),\n",
    "    tf.keras.layers.Dense(128),\n",
    "    tf.keras.layers.Lambda(my_relu),\n",
    "    tf.keras.layers.Dense(10, activation='softmax')\n",
    "])\n",
    "\n",
    "model.compile(optimizer='adam',\n",
    "              loss='sparse_categorical_crossentropy',\n",
    "              metrics=['accuracy']\n",
    "             )\n",
    "model.fit(x_train, y_train, epochs=10)\n",
    "model.evaluate(x_test, y_test)"
   ]
  },
  {
   "cell_type": "code",
   "execution_count": 29,
   "id": "c9fb4a42-3be7-44d8-af0d-c5c8875d9633",
   "metadata": {},
   "outputs": [],
   "source": [
    "from tensorflow.keras.layers import Layer"
   ]
  },
  {
   "cell_type": "code",
   "execution_count": 36,
   "id": "19d0ecc9-c51a-4dd4-ba4b-746917f70770",
   "metadata": {},
   "outputs": [],
   "source": [
    "class SimpleDense(Layer):\n",
    "    def __init__(self, units=32):\n",
    "        super(SimpleDense, self).__init__()\n",
    "        self.units = units\n",
    "    def build(self, input_shape): # create state of the layer : weights \n",
    "        w_init = tf.random_normal_initializer()\n",
    "        self.w = tf.Variable(name='kernel',\n",
    "                             initial_value=w_init(shape=(input_shape[-1], self.units), dtype='float32'), trainable=True)\n",
    "        b_init = tf.zeros_initializer()\n",
    "        self.b = tf.Variable(name='bias',\n",
    "                             initial_value=b_init(shape=(self.units,), dtype='float32'), trainable=True)\n",
    "\n",
    "    def call(self, inputs): # computation from inputs to outputs \n",
    "        return tf.matmul(inputs, self.w) + self.b\n",
    "        "
   ]
  },
  {
   "cell_type": "code",
   "execution_count": 38,
   "id": "078890b2-9a10-4a53-8314-777605610744",
   "metadata": {},
   "outputs": [
    {
     "name": "stdout",
     "output_type": "stream",
     "text": [
      "[<tf.Variable 'simple_dense/kernel:0' shape=(1, 1) dtype=float32, numpy=array([[0.03240187]], dtype=float32)>, <tf.Variable 'simple_dense/bias:0' shape=(1,) dtype=float32, numpy=array([0.], dtype=float32)>]\n"
     ]
    }
   ],
   "source": [
    "my_dense = SimpleDense(units=1)\n",
    "x = tf.ones((1, 1))\n",
    "y = my_dense(x)\n",
    "print(my_dense.variables)"
   ]
  }
 ],
 "metadata": {
  "kernelspec": {
   "display_name": "Python 3 (ipykernel)",
   "language": "python",
   "name": "python3"
  },
  "language_info": {
   "codemirror_mode": {
    "name": "ipython",
    "version": 3
   },
   "file_extension": ".py",
   "mimetype": "text/x-python",
   "name": "python",
   "nbconvert_exporter": "python",
   "pygments_lexer": "ipython3",
   "version": "3.11.4"
  }
 },
 "nbformat": 4,
 "nbformat_minor": 5
}
